{
  "nbformat": 4,
  "nbformat_minor": 0,
  "metadata": {
    "colab": {
      "provenance": []
    },
    "kernelspec": {
      "name": "python3",
      "display_name": "Python 3"
    },
    "language_info": {
      "name": "python"
    }
  },
  "cells": [
    {
      "cell_type": "code",
      "execution_count": 1,
      "metadata": {
        "colab": {
          "base_uri": "https://localhost:8080/"
        },
        "id": "mCnvc_YwSsWP",
        "outputId": "4c52ea44-bce0-4bd2-9510-62cfc833056e"
      },
      "outputs": [
        {
          "output_type": "stream",
          "name": "stdout",
          "text": [
            "Requirement already satisfied: graphviz in /usr/local/lib/python3.11/dist-packages (0.21)\n"
          ]
        }
      ],
      "source": [
        "!pip install graphviz"
      ]
    },
    {
      "cell_type": "code",
      "source": [
        "from graphviz import Digraph\n",
        "\n",
        "# Initialize graph with high DPI and wide layout\n",
        "dot = Digraph(comment='ADGRE2-Driven NLRP3 Inflammasome Activation')\n",
        "dot.attr(rankdir='LR', size='20,12')  # Wider figure layout\n",
        "dot.graph_attr.update(dpi='300')      # High resolution for export\n",
        "\n",
        "# Signal 1 - Priming\n",
        "dot.node('TLR', 'TLR\\n(Signal 1: Priming)', shape='box', style='filled', fillcolor='lightgray', fontsize='36')\n",
        "dot.node('NFkB', 'NF-κB', shape='box', style='filled', fillcolor='lightblue', fontsize='36')\n",
        "dot.node('ProCytokines', 'pro-IL-1β\\npro-IL-18\\npro-caspase-1', shape='box', style='filled', fillcolor='white', fontsize='36')\n",
        "\n",
        "dot.edge('TLR', 'NFkB', label='activates', fontsize='32')\n",
        "dot.edge('NFkB', 'ProCytokines', label='transcription', fontsize='32')\n",
        "\n",
        "# Signal 2 - Activation\n",
        "dot.node('EMR2', 'EMR2 (ADGRE2)\\n(Signal 2: Activation)', shape='box', style='filled', fillcolor='lightcoral', fontsize='36')\n",
        "dot.node('Galpha', 'Gα16', shape='box', fontsize='36')\n",
        "dot.node('PLC', 'PLC-β', shape='box', fontsize='36')\n",
        "dot.node('PI3K', 'PI3K', shape='box', fontsize='36')\n",
        "dot.node('MAPK', 'MAPK\\n(ERK/JNK)', shape='box', fontsize='36')\n",
        "dot.node('Ca', 'Ca', shape='box', fontsize='36')\n",
        "dot.node('ROS', 'ROS', shape='box', fontsize='36')\n",
        "dot.node('Efflux', 'K efflux', shape='box', fontsize='36')\n",
        "\n",
        "dot.edge('EMR2', 'Galpha', label='activates', fontsize='32')\n",
        "dot.edge('Galpha', 'PLC', fontsize='32')\n",
        "dot.edge('Galpha', 'PI3K', fontsize='32')\n",
        "dot.edge('PLC', 'MAPK', fontsize='32')\n",
        "dot.edge('PI3K', 'MAPK', fontsize='32')\n",
        "dot.edge('PLC', 'Ca', fontsize='32')\n",
        "dot.edge('PI3K', 'ROS', fontsize='32')\n",
        "dot.edge('MAPK', 'InflamSignal', style='dashed', fontsize='32')\n",
        "dot.edge('Ca', 'InflamSignal', style='dashed', fontsize='32')\n",
        "dot.edge('ROS', 'InflamSignal', style='dashed', fontsize='32')\n",
        "dot.edge('Efflux', 'InflamSignal', style='dashed', fontsize='32')\n",
        "\n",
        "# Convergence on inflammasome\n",
        "dot.node('InflamSignal', 'Inflammasome\\nActivation Signals', shape='ellipse', style='filled', fillcolor='palegreen', fontsize='36')\n",
        "dot.node('NLRP3', 'NLRP3\\nInflammasome', shape='box', style='filled', fillcolor='orange', fontsize='36')\n",
        "dot.node('Caspase1', 'Caspase-1\\n(active)', shape='box', fontsize='36')\n",
        "dot.node('ILs', 'IL-1β /\\nIL-18\\n(mature)', shape='box', style='filled', fillcolor='gold', fontsize='36')\n",
        "\n",
        "dot.edge('InflamSignal', 'NLRP3', fontsize='32')\n",
        "dot.edge('ProCytokines', 'NLRP3', style='dashed', label='translated cytokines', fontsize='32')\n",
        "dot.edge('NLRP3', 'Caspase1', fontsize='32')\n",
        "dot.edge('Caspase1', 'ILs', fontsize='32')\n",
        "\n",
        "# Ligand node\n",
        "dot.node('CSB', 'CS-B', shape='note', style='filled', fillcolor='white', fontsize='36')\n",
        "dot.edge('CSB', 'EMR2', label='binds', style='dotted', fontsize='32')\n",
        "\n",
        "# Export the figure\n",
        "dot.render('ADGRE2_Inflammasome_Pathway', format='png', renderer='cairo', cleanup=False)"
      ],
      "metadata": {
        "colab": {
          "base_uri": "https://localhost:8080/",
          "height": 36
        },
        "id": "rrDg5bOrbNsN",
        "outputId": "b3081e2c-d989-47c8-f357-d7f2185717ac"
      },
      "execution_count": 8,
      "outputs": [
        {
          "output_type": "execute_result",
          "data": {
            "text/plain": [
              "'ADGRE2_Inflammasome_Pathway.cairo.png'"
            ],
            "application/vnd.google.colaboratory.intrinsic+json": {
              "type": "string"
            }
          },
          "metadata": {},
          "execution_count": 8
        }
      ]
    }
  ]
}