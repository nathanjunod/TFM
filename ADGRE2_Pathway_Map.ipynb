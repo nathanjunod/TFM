{
  "nbformat": 4,
  "nbformat_minor": 0,
  "metadata": {
    "colab": {
      "provenance": []
    },
    "kernelspec": {
      "name": "python3",
      "display_name": "Python 3"
    },
    "language_info": {
      "name": "python"
    }
  },
  "cells": [
    {
      "cell_type": "code",
      "execution_count": null,
      "metadata": {
        "colab": {
          "base_uri": "https://localhost:8080/"
        },
        "id": "1mVp8870h-vA",
        "outputId": "710b3504-c317-4d30-b6db-b614ca8d166a"
      },
      "outputs": [
        {
          "output_type": "stream",
          "name": "stdout",
          "text": [
            "Requirement already satisfied: graphviz in /usr/local/lib/python3.11/dist-packages (0.20.3)\n"
          ]
        }
      ],
      "source": [
        "pip install graphviz"
      ]
    },
    {
      "cell_type": "code",
      "source": [
        "from graphviz import Digraph\n",
        "\n",
        "# Initialize the graph\n",
        "dot = Digraph(comment='ADGRE2 Modulatory Pathways')\n",
        "dot.attr(rankdir='LR', size='10,7')\n",
        "\n",
        "# Define Nodes\n",
        "dot.node('PPAR', 'PPAR-γ', shape='box', style='filled', fillcolor='lightblue')\n",
        "dot.node('NFkB', 'NF-κB', shape='box')\n",
        "dot.node('COX', 'COX Inhibition', shape='box', style='filled', fillcolor='lightyellow')\n",
        "dot.node('JAK', 'JAK/STAT', shape='box')\n",
        "dot.node('Phos', '↓ Phosphorylation', shape='box')\n",
        "dot.node('mTOR', 'mTOR', shape='box')\n",
        "dot.node('FKBP', 'FKBP-12', shape='box')\n",
        "dot.node('Inflammation', 'Inflammation', shape='ellipse')\n",
        "dot.node('ADGRE2', 'ADGRE2 Expression', shape='box', style='filled', fillcolor='lightcoral')\n",
        "\n",
        "# Drug Nodes\n",
        "ppar_drugs = ['Pioglitazone', 'Rosiglitazone', 'Troglitazone']\n",
        "cox_drugs = ['Salsalate', 'Benorilate']\n",
        "jak_drugs = ['Nitazoxanide', 'Diacerein']\n",
        "mTOR_drugs = ['Everolimus', 'Sirolimus', 'Temsirolimus']\n",
        "misc_drugs = ['Pemetrexed', 'Acetomenaphthone', 'Salicylic Acid']\n",
        "\n",
        "# Drug connections\n",
        "for drug in ppar_drugs:\n",
        "    dot.node(drug, drug, shape='note')\n",
        "    dot.edge(drug, 'PPAR')\n",
        "\n",
        "for drug in cox_drugs:\n",
        "    dot.node(drug, drug, shape='note')\n",
        "    dot.edge(drug, 'COX')\n",
        "\n",
        "dot.node('Aspirin', 'Aspirin (may worsen VU)', shape='note', fontcolor='red')\n",
        "dot.edge('Aspirin', 'COX', style='dashed', color='red')\n",
        "\n",
        "for drug in jak_drugs:\n",
        "    dot.node(drug, drug, shape='note')\n",
        "    dot.edge(drug, 'Phos')\n",
        "\n",
        "for drug in mTOR_drugs:\n",
        "    dot.node(drug, drug, shape='note')\n",
        "    dot.edge(drug, 'FKBP')\n",
        "\n",
        "# Misc drugs with speculative interactions\n",
        "for drug in misc_drugs:\n",
        "    dot.node(drug, drug, shape='note', fontcolor='gray')\n",
        "    target = 'mTOR' if drug == 'Pemetrexed' else 'NFkB'\n",
        "    dot.edge(drug, target, style='dotted', color='gray')\n",
        "\n",
        "# Pathway connections (literature-supported)\n",
        "dot.edge('PPAR', 'NFkB', label='inhibits', color='gray')\n",
        "dot.edge('COX', 'NFkB', label='inhibits', color='gray')\n",
        "dot.edge('NFkB', 'Inflammation')\n",
        "dot.edge('Inflammation', 'ADGRE2', label='activates')\n",
        "\n",
        "dot.edge('COX', 'JAK')\n",
        "dot.edge('JAK', 'Phos')\n",
        "dot.edge('Phos', 'Inflammation', color='gray')\n",
        "\n",
        "dot.edge('FKBP', 'mTOR', color='gray')\n",
        "dot.edge('mTOR', 'ADGRE2', label='↑ translation')\n",
        "\n",
        "dot.render('ADGRE2_Pathway_Diagram', format='png', cleanup=False)\n",
        "\n",
        "# Show DOT source (for debugging or export)\n",
        "print(dot.source)"
      ],
      "metadata": {
        "colab": {
          "base_uri": "https://localhost:8080/"
        },
        "id": "Cc47FGf5Qka7",
        "outputId": "283a1833-032f-4e71-c878-d29c112ee004"
      },
      "execution_count": null,
      "outputs": [
        {
          "output_type": "stream",
          "name": "stdout",
          "text": [
            "// ADGRE2 Modulatory Pathways\n",
            "digraph {\n",
            "\trankdir=LR size=\"10,7\"\n",
            "\tPPAR [label=\"PPAR-γ\" fillcolor=lightblue shape=box style=filled]\n",
            "\tNFkB [label=\"NF-κB\" shape=box]\n",
            "\tCOX [label=\"COX Inhibition\" fillcolor=lightyellow shape=box style=filled]\n",
            "\tJAK [label=\"JAK/STAT\" shape=box]\n",
            "\tPhos [label=\"↓ Phosphorylation\" shape=box]\n",
            "\tmTOR [label=mTOR shape=box]\n",
            "\tFKBP [label=\"FKBP-12\" shape=box]\n",
            "\tInflammation [label=Inflammation shape=ellipse]\n",
            "\tADGRE2 [label=\"ADGRE2 Expression\" fillcolor=lightcoral shape=box style=filled]\n",
            "\tPioglitazone [label=Pioglitazone shape=note]\n",
            "\tPioglitazone -> PPAR\n",
            "\tRosiglitazone [label=Rosiglitazone shape=note]\n",
            "\tRosiglitazone -> PPAR\n",
            "\tTroglitazone [label=Troglitazone shape=note]\n",
            "\tTroglitazone -> PPAR\n",
            "\tSalsalate [label=Salsalate shape=note]\n",
            "\tSalsalate -> COX\n",
            "\tBenorilate [label=Benorilate shape=note]\n",
            "\tBenorilate -> COX\n",
            "\tAspirin [label=\"Aspirin (may worsen VU)\" fontcolor=red shape=note]\n",
            "\tAspirin -> COX [color=red style=dashed]\n",
            "\tNitazoxanide [label=Nitazoxanide shape=note]\n",
            "\tNitazoxanide -> Phos\n",
            "\tDiacerein [label=Diacerein shape=note]\n",
            "\tDiacerein -> Phos\n",
            "\tEverolimus [label=Everolimus shape=note]\n",
            "\tEverolimus -> FKBP\n",
            "\tSirolimus [label=Sirolimus shape=note]\n",
            "\tSirolimus -> FKBP\n",
            "\tTemsirolimus [label=Temsirolimus shape=note]\n",
            "\tTemsirolimus -> FKBP\n",
            "\tPemetrexed [label=Pemetrexed fontcolor=gray shape=note]\n",
            "\tPemetrexed -> mTOR [color=gray style=dotted]\n",
            "\tAcetomenaphthone [label=Acetomenaphthone fontcolor=gray shape=note]\n",
            "\tAcetomenaphthone -> NFkB [color=gray style=dotted]\n",
            "\t\"Salicylic Acid\" [label=\"Salicylic Acid\" fontcolor=gray shape=note]\n",
            "\t\"Salicylic Acid\" -> NFkB [color=gray style=dotted]\n",
            "\tPPAR -> NFkB [label=inhibits color=gray]\n",
            "\tCOX -> NFkB [label=inhibits color=gray]\n",
            "\tNFkB -> Inflammation\n",
            "\tInflammation -> ADGRE2 [label=activates]\n",
            "\tCOX -> JAK\n",
            "\tJAK -> Phos\n",
            "\tPhos -> Inflammation [color=gray]\n",
            "\tFKBP -> mTOR [color=gray]\n",
            "\tmTOR -> ADGRE2 [label=\"↑ translation\"]\n",
            "}\n",
            "\n"
          ]
        }
      ]
    }
  ]
}